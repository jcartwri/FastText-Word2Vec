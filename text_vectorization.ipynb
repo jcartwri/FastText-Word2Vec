{
 "cells": [
  {
   "cell_type": "markdown",
   "metadata": {},
   "source": [
    "Links:\n",
    "\n",
    "Word2Vec - https://radimrehurek.com/gensim/models/word2vec.html#gensim.models.word2vec.Word2Vec\n",
    "\n",
    "FastText - https://radimrehurek.com/gensim/auto_examples/tutorials/run_fasttext.html#sphx-glr-auto-examples-tutorials-run-fasttext-py"
   ]
  },
  {
   "cell_type": "code",
   "execution_count": 1,
   "metadata": {},
   "outputs": [],
   "source": [
    "import re\n",
    "import string\n",
    "from nltk.corpus import stopwords\n",
    "import os\n",
    "from gensim.models import Word2Vec, FastText\n",
    "from gensim import corpora\n",
    "import numpy as np"
   ]
  },
  {
   "cell_type": "code",
   "execution_count": 2,
   "metadata": {},
   "outputs": [
    {
     "name": "stdout",
     "output_type": "stream",
     "text": [
      "['anna.txt', 'war.txt', 'lav.txt', 'fel_dzer.txt', 'groza.txt']\n"
     ]
    }
   ],
   "source": [
    "# variables\n",
    "file_path = \"./raw_text/\"\n",
    "files = os.listdir(file_path)\n",
    "files = [f for f in files if \".txt\" in f]\n",
    "print(files)"
   ]
  },
  {
   "cell_type": "code",
   "execution_count": 3,
   "metadata": {},
   "outputs": [],
   "source": [
    "documents = [open(file_path + d).read() for d in files]"
   ]
  },
  {
   "cell_type": "code",
   "execution_count": 4,
   "metadata": {},
   "outputs": [],
   "source": [
    "# preprocessing of single document\n",
    "def preprocess_document(document, full=1):\n",
    "# 1. Remove all the special characters\n",
    "    document = re.sub(r'\\W', ' ', str(document))\n",
    "# 2. Convert document to lowercase\n",
    "    document = document.lower()\n",
    "# 3. Remove punctuation\n",
    "    document = document.translate(string.punctuation)\n",
    "    document = re.sub(r'\\s+', ' ', document, flags=re.I)\n",
    "# 4. Remove whitespaces\n",
    "    document = document.strip()\n",
    "# 5. Tokenization\n",
    "    document = document.split()\n",
    "# 6. Remove stop-words\n",
    "    if full == 1:\n",
    "        stop_words = stopwords.words('russian')\n",
    "        document = [i for i in document if i not in stop_words]\n",
    "# 7. Remove short words\n",
    "    if full == 1:\n",
    "        document = [i for i in document if len(i) > 1]\n",
    "    return document    "
   ]
  },
  {
   "cell_type": "code",
   "execution_count": 12,
   "metadata": {},
   "outputs": [],
   "source": [
    "# preprocess documents\n",
    "def preprocess_cor_documents(documents):\n",
    "    tokenized_documents = [preprocess_document(doc) for doc in documents]\n",
    "    return preprocessed_documents"
   ]
  },
  {
   "cell_type": "code",
   "execution_count": 13,
   "metadata": {},
   "outputs": [],
   "source": [
    "# preprocessed documents\n",
    "tokenized_documents = preprocess_cor_documents(documents)"
   ]
  },
  {
   "cell_type": "code",
   "execution_count": 14,
   "metadata": {},
   "outputs": [],
   "source": [
    "# Create Dictionary\n",
    "mydicrionary = corpora.Dictionary(tokenized_documents)"
   ]
  },
  {
   "cell_type": "code",
   "execution_count": 15,
   "metadata": {},
   "outputs": [],
   "source": [
    "# Create the Corpus\n",
    "mydict = corpora.Dictionary()\n",
    "mycorpus = [mydict.doc2bow(doc, allow_update=True) for doc in preprocessed_documents]"
   ]
  },
  {
   "cell_type": "markdown",
   "metadata": {},
   "source": [
    "Training Word2Vec\n",
    "\n",
    " Parameters:\n",
    "\n",
    " sentences(iterable of iterables, optional) - the sentences iterable can be simply a list of lists of tokens.\n",
    " corpus_file(str, optional) - path to a corpus file in LineSentence format.\n",
    " size(int, optional) - size of vector\n",
    " min_count(int, optional) - ignore words which appear less than min_count variable\n",
    " workers(int, optional) - count for parallel training. Need Cython installed.\n",
    " windows(int, optional) - maximum distance between the current and predicted word within a sentence.\n",
    " sg({0, 1}, optional) – training algorithm: 1 for skip-gram; otherwise CBOW.\n",
    " hs({0, 1}, optional) – If 1, hierarchical softmax will be used for model training.\n",
    "     If 0, and negative is non-zero, negative sampling will be used.\n",
    " cbow_mean({0, 1}, optional) – If 0, use the sum of the context word vectors.\n",
    "     If 1, use the mean, only applies when cbow is used.\n",
    " alpha(float, optional) – the initial learning rate."
   ]
  },
  {
   "cell_type": "code",
   "execution_count": 7,
   "metadata": {},
   "outputs": [],
   "source": [
    "# training cbow Word2Vec model\n",
    "model_wv_cbow = Word2Vec(sentences=tokenized_documents size=100, min_count=2, window=10, sg=0)"
   ]
  },
  {
   "cell_type": "code",
   "execution_count": 28,
   "metadata": {},
   "outputs": [],
   "source": [
    "# Training skip-gram Word2Vec model\n",
    "model_wv_skip_gram = Word2Vec(sentences=tokenized_documents, size=100, min_count=2, window=10, sg=1)"
   ]
  },
  {
   "cell_type": "code",
   "execution_count": 7,
   "metadata": {},
   "outputs": [],
   "source": [
    "# Training cbow FastText\n",
    "model_ft = FastText(sentences=tokenized_documents, size=100, window=10, min_count=2)"
   ]
  },
  {
   "cell_type": "code",
   "execution_count": 16,
   "metadata": {},
   "outputs": [],
   "source": [
    "# Training skip-gram FastText\n",
    "model_ft_sg = FastText(sentences=tokenized_documents, size=100, window=10, min_count=2, sg=1)"
   ]
  },
  {
   "cell_type": "code",
   "execution_count": null,
   "metadata": {},
   "outputs": [],
   "source": [
    "# save model\n",
    "model_ft.save(\"model_ft.model\")"
   ]
  },
  {
   "cell_type": "code",
   "execution_count": null,
   "metadata": {},
   "outputs": [],
   "source": [
    "# load model\n",
    "mod = FastText.load(\"model_ft.model\")"
   ]
  },
  {
   "cell_type": "code",
   "execution_count": 8,
   "metadata": {},
   "outputs": [],
   "source": [
    "def get_vect(old_text, new_text, vect, i):\n",
    "    if old_text[i] in new_text:\n",
    "        return vect[new_text.index(old_text[i])]\n",
    "    else:\n",
    "        return None"
   ]
  },
  {
   "cell_type": "code",
   "execution_count": 9,
   "metadata": {
    "scrolled": true
   },
   "outputs": [],
   "source": [
    "def get_vectors(text:string, model):\n",
    "    if text == \"\":\n",
    "        return None\n",
    "    old_text = preprocess_document(text, full=0)\n",
    "    new_text = preprocess_document(text)\n",
    "    if new_text == []:\n",
    "        return [None] * len(old_text)\n",
    "    vect = model.wv[new_text]\n",
    "    result = [get_vect(old_text, new_text, vect, i) for i in range(len(old_text))]\n",
    "    return result"
   ]
  },
  {
   "cell_type": "code",
   "execution_count": 10,
   "metadata": {},
   "outputs": [],
   "source": [
    "# Receive vectors from string\n",
    "v = get_vectors(\"пример\", model_ft_sg)"
   ]
  },
  {
   "cell_type": "code",
   "execution_count": 11,
   "metadata": {},
   "outputs": [
    {
     "data": {
      "text/plain": [
       "[array([-0.07799093, -0.98724556,  0.13121085,  0.9255666 ,  0.09431762,\n",
       "        -0.1385675 ,  0.3003915 ,  0.22754012,  0.5577877 ,  0.8205174 ,\n",
       "         0.10291892, -0.21871053, -0.11489373,  0.04657197, -0.29006442,\n",
       "        -0.2661543 ,  0.8866404 , -1.0701476 , -1.0488906 ,  0.26778087,\n",
       "         0.38740388,  0.02332336,  0.19763272, -0.25438488,  0.6453576 ,\n",
       "         0.37524518,  0.70478994,  0.7469535 ,  0.363343  ,  0.56580716,\n",
       "         0.04804358,  0.2136718 ,  0.51513666,  0.26970598, -0.1216715 ,\n",
       "        -0.5276215 , -0.6214669 ,  0.5279445 ,  0.7449132 ,  0.12655437,\n",
       "        -0.83592725, -0.84628767,  0.9284392 ,  0.9344948 , -0.15767695,\n",
       "         0.2810917 ,  0.25853863,  0.4222324 ,  0.13669257, -0.5250268 ,\n",
       "         0.06484531, -0.2514828 ,  0.33120596,  0.5561683 ,  0.07507797,\n",
       "         0.23623434, -0.05633254,  0.13490196, -0.5845275 , -0.04670249,\n",
       "         0.85874957,  0.1649541 , -0.41773078, -0.20426798, -0.2347065 ,\n",
       "        -0.4842357 , -1.2415692 ,  0.89219785,  0.01221689,  0.34935543,\n",
       "         0.01038633,  1.7116015 , -0.45530862,  0.3342383 , -0.52905434,\n",
       "         0.10718608, -0.03947232,  0.23943901,  1.1523528 , -0.57353956,\n",
       "         0.15416442,  0.38110122, -1.1764561 , -0.24183644,  0.57022345,\n",
       "         0.3927022 ,  0.20910837,  0.7709158 , -1.07919   , -0.81599367,\n",
       "        -0.2360943 , -0.36003724, -0.2834814 , -0.20854555,  0.7834341 ,\n",
       "        -0.43844348, -0.38124657,  0.19241838, -0.30885583,  0.938678  ],\n",
       "       dtype=float32)]"
      ]
     },
     "execution_count": 11,
     "metadata": {},
     "output_type": "execute_result"
    }
   ],
   "source": [
    "v"
   ]
  },
  {
   "cell_type": "code",
   "execution_count": 27,
   "metadata": {},
   "outputs": [
    {
     "data": {
      "text/plain": [
       "[('ела', 0.9999810457229614),\n",
       " ('ангела', 0.9999802112579346),\n",
       " ('учила', 0.9999784827232361),\n",
       " ('ждала', 0.9999784827232361),\n",
       " ('вала', 0.9999777674674988),\n",
       " ('ввела', 0.9999773502349854),\n",
       " ('сила', 0.9999766945838928),\n",
       " ('знала', 0.9999760389328003),\n",
       " ('желала', 0.999975860118866),\n",
       " ('мала', 0.9999758005142212)]"
      ]
     },
     "execution_count": 27,
     "metadata": {},
     "output_type": "execute_result"
    }
   ],
   "source": [
    "model_ft_sg.wv.most_similar(\"\")"
   ]
  },
  {
   "cell_type": "code",
   "execution_count": 17,
   "metadata": {},
   "outputs": [],
   "source": [
    "# Import for visualization\n",
    "from sklearn.manifold import TSNE\n",
    "import re\n",
    "import matplotlib.pyplot as plt\n",
    "import pandas as pd\n",
    "import datetime"
   ]
  },
  {
   "cell_type": "code",
   "execution_count": 18,
   "metadata": {},
   "outputs": [
    {
     "data": {
      "image/png": "[encoded data removed]",
      "text/plain": [
       "<Figure size 432x288 with 1 Axes>"
      ]
     },
     "metadata": {
      "needs_background": "light"
     },
     "output_type": "display_data"
    },
    {
     "data": {
      "text/plain": [
       "<bound method _AxesBase.set_ylim of <matplotlib.axes._subplots.AxesSubplot object at 0x12a4be2e8>>"
      ]
     },
     "execution_count": 18,
     "metadata": {},
     "output_type": "execute_result"
    }
   ],
   "source": [
    "# Visualization of vectors\n",
    "\n",
    "model_name = model_ft_sg\n",
    "\n",
    "vocab = list(model_name.wv.vocab)\n",
    "X = model_name.wv[vocab]\n",
    "tsne = TSNE(n_components=2)\n",
    "X_tsne = tsne.fit_transform(X)\n",
    "df = pd.DataFrame(X_tsne, index=vocab, columns=['x', 'y'])\n",
    "fig = plt.figure()\n",
    "ax = fig.add_subplot(1, 1, 1)\n",
    "ax.scatter(df['x'], df['y'])\n",
    "\n",
    "# Word's annotation\n",
    "# for word, pos in df.iterrows():\n",
    "# ax.annotate(word, pos)\n",
    "\n",
    "plt.show()\n",
    "ax.set_xlim\n",
    "ax.set_ylim\n",
    "    "
   ]
  },
  {
   "cell_type": "code",
   "execution_count": 19,
   "metadata": {},
   "outputs": [
    {
     "name": "stdout",
     "output_type": "stream",
     "text": [
      "saved\n"
     ]
    }
   ],
   "source": [
    "# Save image\n",
    "model_name = \"model_ft_sg\"\n",
    "fig.savefig(fname=\"./result/%s_%s.png\" % (model_name, datetime.datetime.now().strftime(\"%I:%M%p on %B %d, %Y\")), quality=100)\n",
    "print(\"saved\")"
   ]
  }
 ],
 "metadata": {
  "kernelspec": {
   "display_name": "Python 3",
   "language": "python",
   "name": "python3"
  },
  "language_info": {
   "codemirror_mode": {
    "name": "ipython",
    "version": 3
   },
   "file_extension": ".py",
   "mimetype": "text/x-python",
   "name": "python",
   "nbconvert_exporter": "python",
   "pygments_lexer": "ipython3",
   "version": "3.7.3"
  }
 },
 "nbformat": 4,
 "nbformat_minor": 2
}
